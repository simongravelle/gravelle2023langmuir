{
 "cells": [
  {
   "cell_type": "code",
   "execution_count": null,
   "metadata": {},
   "outputs": [],
   "source": [
    "import MDAnalysis as mda\n",
    "import numpy as np\n",
    "from tqdm import tqdm\n",
    "import warnings\n",
    "import os\n",
    "import gc\n",
    "from distutils.dir_util import copy_tree\n",
    "warnings.filterwarnings('ignore')"
   ]
  },
  {
   "cell_type": "code",
   "execution_count": null,
   "metadata": {},
   "outputs": [],
   "source": [
    "def make_tether(_u, _PEG, _cpt_res, _ns, start, stop):\n",
    "    _cpt_res = cpt_res\n",
    "    _PEG = PEG\n",
    "    _u = u\n",
    "    _allx = []\n",
    "    _ally = []\n",
    "    _allz = []\n",
    "    for _ts in _u.trajectory[start:stop]:\n",
    "        _allx.append(_PEG.atoms.positions.T[0])\n",
    "        _ally.append(_PEG.atoms.positions.T[1])\n",
    "        _allz.append(_PEG.atoms.positions.T[2])\n",
    "    f = open('tether/PEG'+str(_cpt_res+1)+'/ns'+str(_ns)+'/TETHER.x.lammps', 'w')\n",
    "    for x in _allx:\n",
    "        f.write(str(np.round(x[0],2))+' '+str(np.round(x[1],2))+' '+str(np.round(x[2],2))+' '+str(np.round(x[3],2))+' '+str(np.round(x[4],2))+'\\n')\n",
    "    f.close()\n",
    "    f = open('tether/PEG'+str(_cpt_res+1)+'/ns'+str(_ns)+'/TETHER.y.lammps', 'w')\n",
    "    for y in _ally:\n",
    "        f.write(str(np.round(y[0],2))+' '+str(np.round(y[1],2))+' '+str(np.round(y[2],2))+' '+str(np.round(y[3],2))+' '+str(np.round(y[4],2))+'\\n')\n",
    "    f.close()\n",
    "    f = open('tether/PEG'+str(_cpt_res+1)+'/ns'+str(_ns)+'/TETHER.z.lammps', 'w')\n",
    "    for z in _allz:\n",
    "        f.write(str(np.round(z[0],2))+' '+str(np.round(z[1],2))+' '+str(np.round(z[2],2))+' '+str(np.round(z[3],2))+' '+str(np.round(z[4],2))+'\\n')\n",
    "    f.close()"
   ]
  },
  {
   "cell_type": "code",
   "execution_count": null,
   "metadata": {},
   "outputs": [],
   "source": [
    "path1 = \"C-CG/\""
   ]
  },
  {
   "cell_type": "code",
   "execution_count": null,
   "metadata": {},
   "outputs": [],
   "source": [
    "if not os.path.exists('dump/'):\n",
    "    os.mkdir('dump')\n",
    "original_univers = mda.Universe(path1+\"conf.gro\", path1+\"traj.trr\")\n",
    "dimensions = original_univers.dimensions\n",
    "n_frames = original_univers.trajectory.n_frames\n",
    "#original_univers.transfer_to_memory(stop=n_frames)"
   ]
  },
  {
   "cell_type": "code",
   "execution_count": null,
   "metadata": {},
   "outputs": [],
   "source": [
    "\n",
    "timestep = np.round(original_univers.trajectory.dt,2)\n",
    "f = open(\"dump/dimensions.dat\", \"w\")\n",
    "f.write(str(dimensions[0])+' '+str(dimensions[1])+' '+str(dimensions[2])+' '+str(dimensions[3])+' '+str(dimensions[4])+' '+str(dimensions[5])+'\\n')\n",
    "f.close()\n",
    "dimensions = np.loadtxt(\"dump/dimensions.dat\")"
   ]
  },
  {
   "cell_type": "code",
   "execution_count": null,
   "metadata": {},
   "outputs": [],
   "source": [
    "# make peg list\n",
    "PEG_list = []\n",
    "for cpt_res, ids in enumerate(original_univers.residues.ids):\n",
    "    PEG_list.append(cpt_res)"
   ]
  },
  {
   "cell_type": "code",
   "execution_count": null,
   "metadata": {},
   "outputs": [],
   "source": [
    "# make frame list\n",
    "frames = np.arange(n_frames)\n",
    "frame_list = np.array_split(frames, 100)"
   ]
  },
  {
   "cell_type": "code",
   "execution_count": null,
   "metadata": {},
   "outputs": [],
   "source": [
    "dimensions = original_univers.dimensions\n",
    "f = open(\"dump/dimensions.dat\", \"w\")\n",
    "f.write(str(dimensions[0])+' '+str(dimensions[1])+' '+str(dimensions[2])+' '+str(dimensions[3])+' '+str(dimensions[4])+' '+str(dimensions[5])+'\\n')\n",
    "f.close()\n",
    "for ts in original_univers.trajectory[::100]:\n",
    "    assert dimensions[0] == ts.dimensions[0] # volume of box changed\n",
    "    assert dimensions[1] == ts.dimensions[1] # volume of box changed\n",
    "    assert dimensions[2] == ts.dimensions[2] # volume of box changed"
   ]
  },
  {
   "cell_type": "code",
   "execution_count": null,
   "metadata": {},
   "outputs": [],
   "source": [
    "if not os.path.exists('data/'):\n",
    "    os.mkdir('data')"
   ]
  },
  {
   "cell_type": "code",
   "execution_count": null,
   "metadata": {},
   "outputs": [],
   "source": [
    "# create group\n",
    "original_groups = [[1,2,3,4,5,],\n",
    "                   [6,7,8,9,10,11,12],\n",
    "                   [13,14,15,16,17,18,19],\n",
    "                   [20,21,22,23,24,25,26],\n",
    "                   [27,28,29,30,31]]\n",
    "f = open(\"inputs/GROUP.lammps\", \"w\")\n",
    "for cpt_grp, group in enumerate(original_groups):\n",
    "    line = 'group MON'+str(cpt_grp+1)+' id'\n",
    "    for atom in group:\n",
    "        line = line+' '+str(atom)\n",
    "    f.write(line+'\\n')\n",
    "f.close()"
   ]
  },
  {
   "cell_type": "code",
   "execution_count": null,
   "metadata": {},
   "outputs": [],
   "source": [
    "f = open('PEG.list', 'w')\n",
    "for x in PEG_list:\n",
    "    f.write(str(x)+'\\n')\n",
    "f.close()"
   ]
  },
  {
   "cell_type": "code",
   "execution_count": null,
   "metadata": {},
   "outputs": [],
   "source": [
    "# create one PEG folder per PEG\n",
    "for cpt_res in PEG_list:\n",
    "    if not os.path.exists('dump/PEG'+str(cpt_res+1)):\n",
    "        os.mkdir('dump/PEG'+str(cpt_res+1))\n",
    "        #ns = 0\n",
    "        #if not os.path.exists('dump/PEG'+str(cpt_res+1)+'/ns'+str(ns)):\n",
    "        #    os.mkdir('dump/PEG'+str(cpt_res+1)+'/ns'+str(ns))"
   ]
  },
  {
   "cell_type": "code",
   "execution_count": null,
   "metadata": {},
   "outputs": [],
   "source": [
    "# generate tether positions from CG trajectories\n",
    "#if not os.path.exists('tether/'):\n",
    "#    os.mkdir('tether')\n",
    "#for cpt_res in PEG_list:\n",
    "#    if not os.path.exists('tether/PEG'+str(cpt_res+1)):\n",
    "#        os.mkdir('tether/PEG'+str(cpt_res+1))\n",
    "#        print('PEG'+str(cpt_res+1))\n",
    "#        #for ns, frame in enumerate(frame_list):\n",
    "#        ns = 0\n",
    "#        frame = 0\n",
    "#        #print('Dealing with ns'+str(ns))\n",
    "#        #os.mkdir('tether/PEG'+str(cpt_res+1)+'/ns'+str(ns))\n",
    "#        u = mda.Universe(path1+\"conf.gro\", path1+\"traj.xtc\")\n",
    "##        #u.transfer_to_memory(stop=n_frames)\n",
    "#        #u.transfer_to_memory(start = frame[0], stop = frame[-1]+1)\n",
    "#        PEG = u.select_atoms('resindex '+str(cpt_res))\n",
    "#        make_tether2(u, PEG, cpt_res)"
   ]
  },
  {
   "cell_type": "code",
   "execution_count": null,
   "metadata": {},
   "outputs": [],
   "source": [
    "if not os.path.exists('tether/'):\n",
    "    os.mkdir('tether')\n",
    "for cpt_res in PEG_list:\n",
    "    if not os.path.exists('tether/PEG'+str(cpt_res+1)):\n",
    "        os.mkdir('tether/PEG'+str(cpt_res+1))\n",
    "        print('PEG'+str(cpt_res+1))\n",
    "        u = mda.Universe(path1+\"conf.gro\", path1+\"traj.trr\")\n",
    "        #u.transfer_to_memory()\n",
    "        PEG = u.select_atoms('resindex '+str(cpt_res))\n",
    "        for ns, frame in enumerate(frame_list):\n",
    "            if not os.path.exists('tether/PEG'+str(cpt_res+1)+'/ns'+str(ns)):\n",
    "                os.mkdir('tether/PEG'+str(cpt_res+1)+'/ns'+str(ns))\n",
    "                make_tether(u, PEG, cpt_res, ns, frame[0], frame[-1]+1)\n",
    "        gc.collect()"
   ]
  }
 ],
 "metadata": {
  "kernelspec": {
   "display_name": "Python 3",
   "language": "python",
   "name": "python3"
  },
  "language_info": {
   "codemirror_mode": {
    "name": "ipython",
    "version": 3
   },
   "file_extension": ".py",
   "mimetype": "text/x-python",
   "name": "python",
   "nbconvert_exporter": "python",
   "pygments_lexer": "ipython3",
   "version": "3.10.6"
  },
  "vscode": {
   "interpreter": {
    "hash": "916dbcbb3f70747c44a77c7bcd40155683ae19c65e1c03b4aa3499c5328201f1"
   }
  }
 },
 "nbformat": 4,
 "nbformat_minor": 4
}
